{
  "nbformat": 4,
  "nbformat_minor": 0,
  "metadata": {
    "colab": {
      "provenance": [],
      "include_colab_link": true
    },
    "kernelspec": {
      "name": "python3",
      "display_name": "Python 3"
    },
    "language_info": {
      "name": "python"
    }
  },
  "cells": [
    {
      "cell_type": "markdown",
      "metadata": {
        "id": "view-in-github",
        "colab_type": "text"
      },
      "source": [
        "<a href=\"https://colab.research.google.com/github/chakma21/BTP/blob/main/Making_sentences_from_demonetization.ipynb\" target=\"_parent\"><img src=\"https://colab.research.google.com/assets/colab-badge.svg\" alt=\"Open In Colab\"/></a>"
      ]
    },
    {
      "cell_type": "code",
      "metadata": {
        "colab": {
          "base_uri": "https://localhost:8080/"
        },
        "id": "afb324bb",
        "outputId": "07a5b693-3604-4f0c-9232-d4ec1f554236"
      },
      "source": [
        "import nltk\n",
        "nltk.download('punkt')\n",
        "nltk.download('punkt_tab')"
      ],
      "execution_count": 15,
      "outputs": [
        {
          "output_type": "stream",
          "name": "stderr",
          "text": [
            "[nltk_data] Downloading package punkt to /root/nltk_data...\n",
            "[nltk_data]   Package punkt is already up-to-date!\n",
            "[nltk_data] Downloading package punkt_tab to /root/nltk_data...\n",
            "[nltk_data]   Package punkt_tab is already up-to-date!\n"
          ]
        },
        {
          "output_type": "execute_result",
          "data": {
            "text/plain": [
              "True"
            ]
          },
          "metadata": {},
          "execution_count": 15
        }
      ]
    },
    {
      "cell_type": "code",
      "metadata": {
        "colab": {
          "base_uri": "https://localhost:8080/"
        },
        "id": "5ad01fff",
        "outputId": "84a8e65f-c730-488e-8ced-59e5f270ee35"
      },
      "source": [
        "# Step 1: Read the uploaded file\n",
        "file_path = '/content/demonetization_9'  # this is the path in Colab\n",
        "\n",
        "# First, read the file content\n",
        "with open(file_path, 'r', encoding='utf-8', errors='ignore') as file:\n",
        "    text = file.read()\n",
        "\n",
        "# Step 2: Split into sentences using nltk\n",
        "from nltk.tokenize import sent_tokenize\n",
        "\n",
        "# Step 3: Tokenize the text into sentences\n",
        "sentences = sent_tokenize(text)\n",
        "cleaned_sentences = [sentence.replace('-', '') for sentence in sentences]\n",
        "\n",
        "# Step 4: Print or inspect the result\n",
        "for i, sentence in enumerate(cleaned_sentences[:10], 1):  # show first 10 sentences\n",
        "    print(f\"{i}: {sentence}\")"
      ],
      "execution_count": 16,
      "outputs": [
        {
          "output_type": "stream",
          "name": "stdout",
          "text": [
            "1: \n",
            "\n",
            "\n",
            "Top Similar Articles: \n",
            "\n",
            "Congress to begin nationwide campaign against demonetization from Jan 6: Sanjay Nirupam    Dec 30, 2016, 08.\n",
            "2: 47 PM     VARANASI: Continuing its campaign against demonetization , the Congress will begin a nationwide movement in the new year.\n",
            "3: The Mumbai Congress committee president Sanjay Nirupam said that the party is going to begin a nationwide campaign against demonetization from January 6.\n",
            "4: Nirupam was here on Friday to take part in the 'Sawal Satygrah' over demonetization being organised by the local unit of Congress.\n",
            "5: Talking to reporters, he said that the Congress workers will gherao the district headquarters across the country on January 6, while woman wing will come to street with beating 'thali' (plate) on January 8.\n",
            "6: The party will continue the campaign on regular basis to express its protest.\n",
            "7: He said that demonetization was an immature and foolish decision of the Prime Minister taken in haste without any proper planning.\n",
            "8: It completely failed in eradicating black money, corruption and fake currency, he said adding that so far black money worth of Rs  4200 crore was seized for which an hefty amount of Rs  24,000 crore was spent on printing of new currency notes.\n",
            "9: The demonetization also failed to put a check on corruption, as 30% growth in corruption was noticed in Maharashtra after scraping the higher denomination notes.\n",
            "10: He alleged that BJP leaders are involved in hoarding black money.\n"
          ]
        }
      ]
    },
    {
      "cell_type": "code",
      "source": [
        "from nltk.tokenize import word_tokenize # Import word_tokenize\n",
        "\n",
        "char_lengths = [len(cleaned_sentences) for sentence in cleaned_sentences]\n",
        "\n",
        "# Lengths in words\n",
        "word_lengths = [len(word_tokenize(sentence)) for sentence in cleaned_sentences]\n",
        "\n",
        "# Show character-based stats\n",
        "print(\"Sentence Length (Characters):\")\n",
        "print(f\"- Total Sentences: {len(cleaned_sentences)}\")\n",
        "print(f\"- Min Length: {min(char_lengths)}\")\n",
        "print(f\"- Max Length: {max(char_lengths)}\")\n",
        "print(f\"- Average Length: {sum(char_lengths)/len(char_lengths):.2f}\")\n",
        "\n",
        "print(\"\\nSentence Length (Words):\")\n",
        "print(f\"- Min Length: {min(word_lengths)}\")\n",
        "print(f\"- Max Length: {max(word_lengths)}\")\n",
        "print(f\"- Average Length: {sum(word_lengths)/len(word_lengths):.2f}\")"
      ],
      "metadata": {
        "colab": {
          "base_uri": "https://localhost:8080/"
        },
        "id": "Pc77p8KGxtDS",
        "outputId": "2cc25130-8125-437e-a2b4-6bc53c845910"
      },
      "execution_count": 17,
      "outputs": [
        {
          "output_type": "stream",
          "name": "stdout",
          "text": [
            "Sentence Length (Characters):\n",
            "- Total Sentences: 1733\n",
            "- Min Length: 1733\n",
            "- Max Length: 1733\n",
            "- Average Length: 1733.00\n",
            "\n",
            "Sentence Length (Words):\n",
            "- Min Length: 0\n",
            "- Max Length: 102\n",
            "- Average Length: 24.20\n"
          ]
        }
      ]
    },
    {
      "cell_type": "code",
      "source": [
        "# Optional: Save the sentences to a new file\n",
        "with open('/content/sentences.txt', 'w', encoding='utf-8') as f:\n",
        "    for sentence in cleaned_sentences:\n",
        "        f.write(sentence + '\\n')\n"
      ],
      "metadata": {
        "id": "mKGI4i3gxsQH"
      },
      "execution_count": 18,
      "outputs": []
    }
  ]
}