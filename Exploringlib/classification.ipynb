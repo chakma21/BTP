{
  "nbformat": 4,
  "nbformat_minor": 0,
  "metadata": {
    "colab": {
      "provenance": [],
      "authorship_tag": "ABX9TyNJhamRWP+6E1kVbovoKWDS",
      "include_colab_link": true
    },
    "kernelspec": {
      "name": "python3",
      "display_name": "Python 3"
    },
    "language_info": {
      "name": "python"
    }
  },
  "cells": [
    {
      "cell_type": "markdown",
      "metadata": {
        "id": "view-in-github",
        "colab_type": "text"
      },
      "source": [
        "<a href=\"https://colab.research.google.com/github/chakma21/BTP/blob/main/Exploringlib/classification.ipynb\" target=\"_parent\"><img src=\"https://colab.research.google.com/assets/colab-badge.svg\" alt=\"Open In Colab\"/></a>"
      ]
    },
    {
      "cell_type": "markdown",
      "source": [
        "Uploading files"
      ],
      "metadata": {
        "id": "KS0cGlvm7GDm"
      }
    },
    {
      "cell_type": "code",
      "execution_count": 23,
      "metadata": {
        "colab": {
          "base_uri": "https://localhost:8080/",
          "height": 95
        },
        "id": "CDqJnSvv7DnA",
        "outputId": "5651ecc4-f852-4cb8-8aa6-e1179ce0e381"
      },
      "outputs": [
        {
          "output_type": "display_data",
          "data": {
            "text/plain": [
              "<IPython.core.display.HTML object>"
            ],
            "text/html": [
              "\n",
              "     <input type=\"file\" id=\"files-ddfa6eea-dee2-4d09-b53a-e1db03d625cd\" name=\"files[]\" multiple disabled\n",
              "        style=\"border:none\" />\n",
              "     <output id=\"result-ddfa6eea-dee2-4d09-b53a-e1db03d625cd\">\n",
              "      Upload widget is only available when the cell has been executed in the\n",
              "      current browser session. Please rerun this cell to enable.\n",
              "      </output>\n",
              "      <script>// Copyright 2017 Google LLC\n",
              "//\n",
              "// Licensed under the Apache License, Version 2.0 (the \"License\");\n",
              "// you may not use this file except in compliance with the License.\n",
              "// You may obtain a copy of the License at\n",
              "//\n",
              "//      http://www.apache.org/licenses/LICENSE-2.0\n",
              "//\n",
              "// Unless required by applicable law or agreed to in writing, software\n",
              "// distributed under the License is distributed on an \"AS IS\" BASIS,\n",
              "// WITHOUT WARRANTIES OR CONDITIONS OF ANY KIND, either express or implied.\n",
              "// See the License for the specific language governing permissions and\n",
              "// limitations under the License.\n",
              "\n",
              "/**\n",
              " * @fileoverview Helpers for google.colab Python module.\n",
              " */\n",
              "(function(scope) {\n",
              "function span(text, styleAttributes = {}) {\n",
              "  const element = document.createElement('span');\n",
              "  element.textContent = text;\n",
              "  for (const key of Object.keys(styleAttributes)) {\n",
              "    element.style[key] = styleAttributes[key];\n",
              "  }\n",
              "  return element;\n",
              "}\n",
              "\n",
              "// Max number of bytes which will be uploaded at a time.\n",
              "const MAX_PAYLOAD_SIZE = 100 * 1024;\n",
              "\n",
              "function _uploadFiles(inputId, outputId) {\n",
              "  const steps = uploadFilesStep(inputId, outputId);\n",
              "  const outputElement = document.getElementById(outputId);\n",
              "  // Cache steps on the outputElement to make it available for the next call\n",
              "  // to uploadFilesContinue from Python.\n",
              "  outputElement.steps = steps;\n",
              "\n",
              "  return _uploadFilesContinue(outputId);\n",
              "}\n",
              "\n",
              "// This is roughly an async generator (not supported in the browser yet),\n",
              "// where there are multiple asynchronous steps and the Python side is going\n",
              "// to poll for completion of each step.\n",
              "// This uses a Promise to block the python side on completion of each step,\n",
              "// then passes the result of the previous step as the input to the next step.\n",
              "function _uploadFilesContinue(outputId) {\n",
              "  const outputElement = document.getElementById(outputId);\n",
              "  const steps = outputElement.steps;\n",
              "\n",
              "  const next = steps.next(outputElement.lastPromiseValue);\n",
              "  return Promise.resolve(next.value.promise).then((value) => {\n",
              "    // Cache the last promise value to make it available to the next\n",
              "    // step of the generator.\n",
              "    outputElement.lastPromiseValue = value;\n",
              "    return next.value.response;\n",
              "  });\n",
              "}\n",
              "\n",
              "/**\n",
              " * Generator function which is called between each async step of the upload\n",
              " * process.\n",
              " * @param {string} inputId Element ID of the input file picker element.\n",
              " * @param {string} outputId Element ID of the output display.\n",
              " * @return {!Iterable<!Object>} Iterable of next steps.\n",
              " */\n",
              "function* uploadFilesStep(inputId, outputId) {\n",
              "  const inputElement = document.getElementById(inputId);\n",
              "  inputElement.disabled = false;\n",
              "\n",
              "  const outputElement = document.getElementById(outputId);\n",
              "  outputElement.innerHTML = '';\n",
              "\n",
              "  const pickedPromise = new Promise((resolve) => {\n",
              "    inputElement.addEventListener('change', (e) => {\n",
              "      resolve(e.target.files);\n",
              "    });\n",
              "  });\n",
              "\n",
              "  const cancel = document.createElement('button');\n",
              "  inputElement.parentElement.appendChild(cancel);\n",
              "  cancel.textContent = 'Cancel upload';\n",
              "  const cancelPromise = new Promise((resolve) => {\n",
              "    cancel.onclick = () => {\n",
              "      resolve(null);\n",
              "    };\n",
              "  });\n",
              "\n",
              "  // Wait for the user to pick the files.\n",
              "  const files = yield {\n",
              "    promise: Promise.race([pickedPromise, cancelPromise]),\n",
              "    response: {\n",
              "      action: 'starting',\n",
              "    }\n",
              "  };\n",
              "\n",
              "  cancel.remove();\n",
              "\n",
              "  // Disable the input element since further picks are not allowed.\n",
              "  inputElement.disabled = true;\n",
              "\n",
              "  if (!files) {\n",
              "    return {\n",
              "      response: {\n",
              "        action: 'complete',\n",
              "      }\n",
              "    };\n",
              "  }\n",
              "\n",
              "  for (const file of files) {\n",
              "    const li = document.createElement('li');\n",
              "    li.append(span(file.name, {fontWeight: 'bold'}));\n",
              "    li.append(span(\n",
              "        `(${file.type || 'n/a'}) - ${file.size} bytes, ` +\n",
              "        `last modified: ${\n",
              "            file.lastModifiedDate ? file.lastModifiedDate.toLocaleDateString() :\n",
              "                                    'n/a'} - `));\n",
              "    const percent = span('0% done');\n",
              "    li.appendChild(percent);\n",
              "\n",
              "    outputElement.appendChild(li);\n",
              "\n",
              "    const fileDataPromise = new Promise((resolve) => {\n",
              "      const reader = new FileReader();\n",
              "      reader.onload = (e) => {\n",
              "        resolve(e.target.result);\n",
              "      };\n",
              "      reader.readAsArrayBuffer(file);\n",
              "    });\n",
              "    // Wait for the data to be ready.\n",
              "    let fileData = yield {\n",
              "      promise: fileDataPromise,\n",
              "      response: {\n",
              "        action: 'continue',\n",
              "      }\n",
              "    };\n",
              "\n",
              "    // Use a chunked sending to avoid message size limits. See b/62115660.\n",
              "    let position = 0;\n",
              "    do {\n",
              "      const length = Math.min(fileData.byteLength - position, MAX_PAYLOAD_SIZE);\n",
              "      const chunk = new Uint8Array(fileData, position, length);\n",
              "      position += length;\n",
              "\n",
              "      const base64 = btoa(String.fromCharCode.apply(null, chunk));\n",
              "      yield {\n",
              "        response: {\n",
              "          action: 'append',\n",
              "          file: file.name,\n",
              "          data: base64,\n",
              "        },\n",
              "      };\n",
              "\n",
              "      let percentDone = fileData.byteLength === 0 ?\n",
              "          100 :\n",
              "          Math.round((position / fileData.byteLength) * 100);\n",
              "      percent.textContent = `${percentDone}% done`;\n",
              "\n",
              "    } while (position < fileData.byteLength);\n",
              "  }\n",
              "\n",
              "  // All done.\n",
              "  yield {\n",
              "    response: {\n",
              "      action: 'complete',\n",
              "    }\n",
              "  };\n",
              "}\n",
              "\n",
              "scope.google = scope.google || {};\n",
              "scope.google.colab = scope.google.colab || {};\n",
              "scope.google.colab._files = {\n",
              "  _uploadFiles,\n",
              "  _uploadFilesContinue,\n",
              "};\n",
              "})(self);\n",
              "</script> "
            ]
          },
          "metadata": {}
        },
        {
          "output_type": "stream",
          "name": "stdout",
          "text": [
            "Saving catalan_independence to catalan_independence (1)\n",
            " Combined 621 paragraphs into one block of 23683 words.\n"
          ]
        }
      ],
      "source": [
        "# Step 1: Upload the file\n",
        "from google.colab import files\n",
        "uploaded = files.upload()\n",
        "\n",
        "# Get the filename\n",
        "filename = list(uploaded.keys())[0]\n",
        "\n",
        "# Read and join all paragraphs as one big text\n",
        "with open(filename, 'r', encoding='utf-8') as f:\n",
        "    content = f.read()\n",
        "\n",
        "\n",
        "lines = content.strip().splitlines()\n",
        "filtered_lines = [line.strip() for line in lines if not line.strip().startswith('-') and line.strip() != '']\n",
        "combined_text = ' '.join(filtered_lines)\n",
        "\n",
        "\n",
        "# Split on paragraph breaks (double newline), then join with space\n",
        "# paragraphs = content.strip().split('\\n\\n')\n",
        "# combined_text = ' '.join(paragraph.strip().replace('\\n', ' ') for paragraph in paragraphs)\n",
        "\n",
        "print(f\" Combined {len(paragraphs)} paragraphs into one block of {len(combined_text.split())} words.\")\n"
      ]
    },
    {
      "cell_type": "markdown",
      "source": [
        "Installing requirements (you only need to run it one time when running the code for the first time)"
      ],
      "metadata": {
        "id": "t7HkuU_E_kQ4"
      }
    },
    {
      "cell_type": "code",
      "source": [
        "!pip install rake-nltk yake\n",
        "# !pip uninstall -y transformers\n",
        "!pip install transformers --upgrade\n",
        "\n",
        "!pip install --upgrade huggingface_hub\n",
        "!pip install --upgrade keybert sentence-transformers\n",
        "\n",
        "import nltk\n",
        "nltk.download('stopwords')\n",
        "nltk.download('punkt_tab')\n"
      ],
      "metadata": {
        "colab": {
          "base_uri": "https://localhost:8080/",
          "height": 1000
        },
        "id": "ze1S_pQgdL6E",
        "outputId": "62654a2f-efe2-4782-87f3-d85db8e68d38"
      },
      "execution_count": 4,
      "outputs": [
        {
          "output_type": "stream",
          "name": "stdout",
          "text": [
            "Requirement already satisfied: rake-nltk in /usr/local/lib/python3.11/dist-packages (1.0.6)\n",
            "Requirement already satisfied: yake in /usr/local/lib/python3.11/dist-packages (0.4.8)\n",
            "Requirement already satisfied: nltk<4.0.0,>=3.6.2 in /usr/local/lib/python3.11/dist-packages (from rake-nltk) (3.9.1)\n",
            "Requirement already satisfied: click in /usr/local/lib/python3.11/dist-packages (from nltk<4.0.0,>=3.6.2->rake-nltk) (8.2.1)\n",
            "Requirement already satisfied: joblib in /usr/local/lib/python3.11/dist-packages (from nltk<4.0.0,>=3.6.2->rake-nltk) (1.5.1)\n",
            "Requirement already satisfied: regex>=2021.8.3 in /usr/local/lib/python3.11/dist-packages (from nltk<4.0.0,>=3.6.2->rake-nltk) (2024.11.6)\n",
            "Requirement already satisfied: tqdm in /usr/local/lib/python3.11/dist-packages (from nltk<4.0.0,>=3.6.2->rake-nltk) (4.67.1)\n",
            "Requirement already satisfied: tabulate in /usr/local/lib/python3.11/dist-packages (from yake) (0.9.0)\n",
            "Requirement already satisfied: numpy in /usr/local/lib/python3.11/dist-packages (from yake) (2.0.2)\n",
            "Requirement already satisfied: segtok in /usr/local/lib/python3.11/dist-packages (from yake) (1.5.11)\n",
            "Requirement already satisfied: networkx in /usr/local/lib/python3.11/dist-packages (from yake) (3.5)\n",
            "Requirement already satisfied: jellyfish in /usr/local/lib/python3.11/dist-packages (from yake) (1.2.0)\n",
            "Found existing installation: transformers 4.52.4\n",
            "Uninstalling transformers-4.52.4:\n",
            "  Successfully uninstalled transformers-4.52.4\n",
            "Collecting transformers\n",
            "  Using cached transformers-4.52.4-py3-none-any.whl.metadata (38 kB)\n",
            "Requirement already satisfied: filelock in /usr/local/lib/python3.11/dist-packages (from transformers) (3.18.0)\n",
            "Requirement already satisfied: huggingface-hub<1.0,>=0.30.0 in /usr/local/lib/python3.11/dist-packages (from transformers) (0.32.4)\n",
            "Requirement already satisfied: numpy>=1.17 in /usr/local/lib/python3.11/dist-packages (from transformers) (2.0.2)\n",
            "Requirement already satisfied: packaging>=20.0 in /usr/local/lib/python3.11/dist-packages (from transformers) (24.2)\n",
            "Requirement already satisfied: pyyaml>=5.1 in /usr/local/lib/python3.11/dist-packages (from transformers) (6.0.2)\n",
            "Requirement already satisfied: regex!=2019.12.17 in /usr/local/lib/python3.11/dist-packages (from transformers) (2024.11.6)\n",
            "Requirement already satisfied: requests in /usr/local/lib/python3.11/dist-packages (from transformers) (2.32.3)\n",
            "Requirement already satisfied: tokenizers<0.22,>=0.21 in /usr/local/lib/python3.11/dist-packages (from transformers) (0.21.1)\n",
            "Requirement already satisfied: safetensors>=0.4.3 in /usr/local/lib/python3.11/dist-packages (from transformers) (0.5.3)\n",
            "Requirement already satisfied: tqdm>=4.27 in /usr/local/lib/python3.11/dist-packages (from transformers) (4.67.1)\n",
            "Requirement already satisfied: fsspec>=2023.5.0 in /usr/local/lib/python3.11/dist-packages (from huggingface-hub<1.0,>=0.30.0->transformers) (2025.3.2)\n",
            "Requirement already satisfied: typing-extensions>=3.7.4.3 in /usr/local/lib/python3.11/dist-packages (from huggingface-hub<1.0,>=0.30.0->transformers) (4.14.0)\n",
            "Requirement already satisfied: hf-xet<2.0.0,>=1.1.2 in /usr/local/lib/python3.11/dist-packages (from huggingface-hub<1.0,>=0.30.0->transformers) (1.1.2)\n",
            "Requirement already satisfied: charset-normalizer<4,>=2 in /usr/local/lib/python3.11/dist-packages (from requests->transformers) (3.4.2)\n",
            "Requirement already satisfied: idna<4,>=2.5 in /usr/local/lib/python3.11/dist-packages (from requests->transformers) (3.10)\n",
            "Requirement already satisfied: urllib3<3,>=1.21.1 in /usr/local/lib/python3.11/dist-packages (from requests->transformers) (2.4.0)\n",
            "Requirement already satisfied: certifi>=2017.4.17 in /usr/local/lib/python3.11/dist-packages (from requests->transformers) (2025.4.26)\n",
            "Using cached transformers-4.52.4-py3-none-any.whl (10.5 MB)\n",
            "Installing collected packages: transformers\n",
            "Successfully installed transformers-4.52.4\n"
          ]
        },
        {
          "output_type": "display_data",
          "data": {
            "application/vnd.colab-display-data+json": {
              "pip_warning": {
                "packages": [
                  "transformers"
                ]
              },
              "id": "b4605b9b3a3c4b82963ba0cd2b735266"
            }
          },
          "metadata": {}
        },
        {
          "output_type": "stream",
          "name": "stdout",
          "text": [
            "Requirement already satisfied: huggingface_hub in /usr/local/lib/python3.11/dist-packages (0.32.4)\n",
            "Requirement already satisfied: filelock in /usr/local/lib/python3.11/dist-packages (from huggingface_hub) (3.18.0)\n",
            "Requirement already satisfied: fsspec>=2023.5.0 in /usr/local/lib/python3.11/dist-packages (from huggingface_hub) (2025.3.2)\n",
            "Requirement already satisfied: packaging>=20.9 in /usr/local/lib/python3.11/dist-packages (from huggingface_hub) (24.2)\n",
            "Requirement already satisfied: pyyaml>=5.1 in /usr/local/lib/python3.11/dist-packages (from huggingface_hub) (6.0.2)\n",
            "Requirement already satisfied: requests in /usr/local/lib/python3.11/dist-packages (from huggingface_hub) (2.32.3)\n",
            "Requirement already satisfied: tqdm>=4.42.1 in /usr/local/lib/python3.11/dist-packages (from huggingface_hub) (4.67.1)\n",
            "Requirement already satisfied: typing-extensions>=3.7.4.3 in /usr/local/lib/python3.11/dist-packages (from huggingface_hub) (4.14.0)\n",
            "Requirement already satisfied: hf-xet<2.0.0,>=1.1.2 in /usr/local/lib/python3.11/dist-packages (from huggingface_hub) (1.1.2)\n",
            "Requirement already satisfied: charset-normalizer<4,>=2 in /usr/local/lib/python3.11/dist-packages (from requests->huggingface_hub) (3.4.2)\n",
            "Requirement already satisfied: idna<4,>=2.5 in /usr/local/lib/python3.11/dist-packages (from requests->huggingface_hub) (3.10)\n",
            "Requirement already satisfied: urllib3<3,>=1.21.1 in /usr/local/lib/python3.11/dist-packages (from requests->huggingface_hub) (2.4.0)\n",
            "Requirement already satisfied: certifi>=2017.4.17 in /usr/local/lib/python3.11/dist-packages (from requests->huggingface_hub) (2025.4.26)\n",
            "\u001b[31mERROR: Operation cancelled by user\u001b[0m\u001b[31m\n",
            "\u001b[0m^C\n"
          ]
        },
        {
          "output_type": "stream",
          "name": "stderr",
          "text": [
            "[nltk_data] Downloading package stopwords to /root/nltk_data...\n",
            "[nltk_data]   Package stopwords is already up-to-date!\n",
            "[nltk_data] Downloading package punkt_tab to /root/nltk_data...\n",
            "[nltk_data]   Package punkt_tab is already up-to-date!\n"
          ]
        },
        {
          "output_type": "execute_result",
          "data": {
            "text/plain": [
              "True"
            ]
          },
          "metadata": {},
          "execution_count": 4
        }
      ]
    },
    {
      "cell_type": "markdown",
      "source": [
        "import and extractors defining"
      ],
      "metadata": {
        "id": "zWo6rHw7_nAv"
      }
    },
    {
      "cell_type": "code",
      "source": [
        "# RAKE\n",
        "from rake_nltk import Rake\n",
        "\n",
        "# YAKE\n",
        "import yake\n",
        "\n",
        "# KeyBERT\n",
        "from keybert import KeyBERT\n",
        "\n",
        "# Initialize models\n",
        "rake = Rake()\n",
        "kw_extractor_yake = yake.KeywordExtractor(lan=\"en\", top=10)\n",
        "model_keybert = KeyBERT()\n"
      ],
      "metadata": {
        "id": "TR-shNZR6rSW"
      },
      "execution_count": 24,
      "outputs": []
    },
    {
      "cell_type": "markdown",
      "source": [
        "functions for each extractor"
      ],
      "metadata": {
        "id": "04cmu7wm_pip"
      }
    },
    {
      "cell_type": "code",
      "source": [
        "def extract_keywords_rake(text, top_n=100):\n",
        "    rake.extract_keywords_from_text(text)\n",
        "    return rake.get_ranked_phrases_with_scores()[:top_n]\n",
        "\n",
        "def extract_keywords_yake(text):\n",
        "    return kw_extractor_yake.extract_keywords(text)\n",
        "\n",
        "def extract_keywords_keybert(text):\n",
        "    return model_keybert.extract_keywords(\n",
        "        text,\n",
        "        top_n=100,\n",
        "        stop_words='english',\n",
        "        keyphrase_ngram_range=(1, 3)\n",
        "    )\n"
      ],
      "metadata": {
        "id": "Fv6tkky58Djb"
      },
      "execution_count": 25,
      "outputs": []
    },
    {
      "cell_type": "markdown",
      "source": [
        "Calling the functions and printing"
      ],
      "metadata": {
        "id": "An1FqSdw_sXy"
      }
    },
    {
      "cell_type": "code",
      "source": [
        "print(\"\\n==============================\")\n",
        "print(\" Extracting keywords from entire article collection\\n\")\n",
        "\n",
        "print(\"---  RAKE Keywords ---\")\n",
        "for score, kw in extract_keywords_rake(combined_text):\n",
        "    print(f\"{kw} ({score:.2f})\")\n",
        "\n",
        "print(\"\\n---  YAKE Keywords ---\")\n",
        "for kw, score in extract_keywords_yake(combined_text):\n",
        "    print(f\"{kw} ({score:.6f})\")\n",
        "\n",
        "print(\"\\n---  KeyBERT Keywords ---\")\n",
        "for kw, score in extract_keywords_keybert(combined_text):\n",
        "    print(f\"{kw} ({score:.4f})\")\n"
      ],
      "metadata": {
        "colab": {
          "base_uri": "https://localhost:8080/"
        },
        "id": "YEsbGWpu8PqD",
        "outputId": "b8c49460-dbff-4764-cb19-700e7d1862f8"
      },
      "execution_count": 50,
      "outputs": [
        {
          "output_type": "stream",
          "name": "stdout",
          "text": [
            "\n",
            "==============================\n",
            " Extracting keywords from entire article collection\n",
            "\n",
            "---  RAKE Keywords ---\n",
            "la independencia de cataluña se desploma tras las elecciones 21d secesión 1o artículo 155 referéndum dui https :// (291.48)\n",
            "mobile world congress 🇪🇸 cacerolaso por la llegada del rey de españa (108.24)\n",
            "spain explainedimage copyright afp image caption carles puigdemont rallies separatists via videolink (79.50)\n",
            "“ completely unexplainable .” ciutadans urges maintaining article 155 unionist ciutadans (74.27)\n",
            "women “ unexplainable ,” says catecp catalunya en comú podem (65.54)\n",
            "falling apart ,” kepler cheuvreux analyst adrian zunzunegui said (63.13)\n",
            "5umkhjudhf — puerto de la cruz (@ puertocruz05 (59.76)\n",
            "ministers “ effective immediately .” esquerra republicana celebrates news toni comín (54.56)\n",
            "swiss modelimage copyright epa image caption mr puigdemont fled spain (54.50)\n",
            "basque nationalist mp izaskun bilbao demanded urgent eu action (53.99)\n",
            "judge pablo llarena said 25 catalan separatist leaders -- including puigdemont -- would (52.34)\n",
            "device media caption alonso romero feels perfectly integrated (49.87)\n",
            "‘ provocation ,’ warns spaindeposed catalan president carles puigdemont (48.13)\n",
            "xavi urgell protestor puigdemont arrest leaves catalan independence movement (47.38)\n",
            "barcelona por el congreso mundial de móviles (43.59)\n",
            "susana vera “ falling apart ” puigdemont appeared (41.54)\n",
            "sense ” kosovo prime minister ramush haradinaj never tires (41.21)\n",
            "mercat de la música viva festival (40.38)\n",
            "spanish constitution ,\" spanish foreign minister ildefonso castro said (40.36)\n",
            "close caption previous previous image next image next (37.93)\n",
            "armed body whose leaders obviously ignored court orders (37.57)\n",
            "spanish public spending cuts fuelled local resentment (36.43)\n",
            "acting like ‘ dictatorship ,’ says deposed ministerminister (35.27)\n",
            "government spokesman inigo mendez de vigo said (34.39)\n",
            "b1sy8o1hr3 — samuel burke (@ samuelcnn (34.38)\n",
            "provocation .” torra nominates new government including jailed (33.92)\n",
            "largely backed spanish prime minister mariano rajoy ’ (32.92)\n",
            "supreme court reactivated international arrest warrants last month (32.26)\n",
            "eu .” european hopes independence advocates across europe hailed (31.96)\n",
            "paying bailformer catalan leader carles puigdemont walked (31.21)\n",
            "bail © 2018 copyright france 24 – (31.18)\n",
            "bail © 2018 copyright france 24 – (31.18)\n",
            "talk show hosts spouting independence propaganda morning (31.10)\n",
            "smart ” – may unify catalan secessionists (30.84)\n",
            "four silent minders – two police bodyguards (29.35)\n",
            "statements cut little ice among independence advocates (29.25)\n",
            "28 member states contain 276 separate regions (28.88)\n",
            "clients -- former regional minister clara ponsati (28.48)\n",
            "may affect mobile world congress ,\" (28.22)\n",
            "device media caption spanish police clash (27.31)\n",
            "left die linke party called puigdemont ’ (27.29)\n",
            "ousted catalan president carles puigdemont campaigning via self (27.25)\n",
            "german jailfugitive former catalan leader carles puigdemont (27.13)\n",
            "spanish occupation since 1714 ”, “ spaniards (27.01)\n",
            "know well ,” prime minister mariano rajoy said (27.01)\n",
            "former mep takes foreign affairs ernest maragall (26.20)\n",
            "puigdemont called “ premeditated aggression .” mr (25.91)\n",
            "proposes successorousted catalan president carles puigdemont (25.71)\n",
            "catalan socialist party miquel iceta criticised torra (25.61)\n",
            "sincere .” ministers “ honored ” (24.85)\n",
            "spanish minister méndez de vigo (24.74)\n",
            "cnet mayor ada colau ballano issued (24.67)\n",
            "sànchez quim torra also voiced confidence (24.59)\n",
            "spanish prime minister mariano rajoy called elections (24.57)\n",
            "especially since secretary general marta rovira left (24.46)\n",
            "extradite former catalan education minister clara ponsati (24.24)\n",
            "mariano rajoy continue implementing article 155 (23.79)\n",
            "considerable constitutional crisis ,” torra pronounced (23.74)\n",
            "supreme court judge pablo llarena (23.71)\n",
            "germany justice minister katarina barley applauded (23.51)\n",
            "friday also reactivated international arrest warrants (23.46)\n",
            "situation could help ... spanish authorities understand (23.40)\n",
            "situation could help ... spanish authorities understand (23.40)\n",
            "separatist sympathies still simmering across catalonia (23.32)\n",
            "spanish government ,” said cristian kollmann (23.26)\n",
            "says socialist leadercatalan president quim torra (23.10)\n",
            "law exists ,” angela merkel ’ (22.91)\n",
            "ppc ), xavier garcía albiol (22.61)\n",
            "replacing jailed erc leader oriol junqueras (22.60)\n",
            "spanish prime minister mariano rajoy dismissed (22.52)\n",
            "torra visits imprisoned officialson may 21 (22.48)\n",
            "device media caption four voices (22.42)\n",
            "opposite effect ,” said axel jonsson (22.40)\n",
            "spanish leader called “ normality .” “ (22.30)\n",
            "largest mobile industry trade show (22.25)\n",
            "two jailed officials also requested provisional freedom (22.18)\n",
            "mobile world congress trade show (22.11)\n",
            "peaceful – “ exemplary ” even (22.01)\n",
            "iberian peninsula – modern day spain (21.85)\n",
            "spokesperson xavier domènech ironically suggested (21.75)\n",
            "catalan separatistsa european arrest warrant issued (21.69)\n",
            "preventing splintering ,” bach said (21.63)\n",
            "former parliament speaker carme forcadell (21.60)\n",
            "former parliament speaker carme forcadell (21.60)\n",
            "held behind bars since november 3 (21.59)\n",
            "errors ,\" said ines arrimadas (21.42)\n",
            "disputed catalan president carles puigdemont claims (21.37)\n",
            "“ authorize ” quim torra ’ (21.36)\n",
            "capitalist platform wrote “ three women (21.32)\n",
            "“ political leader ,” torra insists torra (21.30)\n",
            "mendez de vigo told (21.28)\n",
            "secessionist cause – completely disregarding (21.27)\n",
            "regional governmentnew catalonia president quim torra (21.27)\n",
            "argued “ puts basic european values (21.16)\n",
            "european separatists maintain regular contact among (20.81)\n",
            "spanish judge issued european arrest warrants (20.78)\n",
            "seemed preternaturally calm last week (20.77)\n",
            "“ serious mistake ” miquel iceta (20.74)\n",
            "former catalonian regional president carles puigdemont (20.66)\n",
            "catalan newspaper la vanguardia (20.45)\n",
            "\n",
            "---  YAKE Keywords ---\n",
            "Catalan leader Carles (0.000174)\n",
            "leader Carles Puigdemont (0.000196)\n",
            "Catalan (0.000202)\n",
            "Carles Puigdemont (0.000227)\n",
            "Catalan independence (0.000236)\n",
            "President Carles Puigdemont (0.000252)\n",
            "Spanish (0.000277)\n",
            "Catalan President Carles (0.000279)\n",
            "Spain (0.000299)\n",
            "Catalonia (0.000309)\n",
            "\n",
            "---  KeyBERT Keywords ---\n",
            "crisis catalonia separatist (0.7283)\n",
            "separatist politicians catalonia (0.7047)\n",
            "catalonia separatist (0.6782)\n",
            "facing catalonia independence (0.6736)\n",
            "ousted leader catalonia (0.6734)\n",
            "catalonia election (0.6721)\n",
            "catalonia ousted leader (0.6699)\n",
            "catalonia separatist lawmakers (0.6696)\n",
            "opposition catalonia separatist (0.6664)\n",
            "catalonia want independence (0.6658)\n",
            "election catalonia (0.6650)\n",
            "spain catalonia ousted (0.6649)\n",
            "catalonia independence vote (0.6639)\n",
            "intervention catalonia independence (0.6617)\n",
            "secessionistsbarcelona catalonia declared (0.6610)\n",
            "catalonia declared independence (0.6589)\n",
            "catalonia pushing independence (0.6561)\n",
            "independence referendum catalonia (0.6554)\n",
            "constitutional crisis catalonia (0.6531)\n",
            "catalonia leader rajoy (0.6521)\n",
            "independence vote catalonia (0.6515)\n",
            "catalonia ousted president (0.6509)\n",
            "catalonia ousted (0.6495)\n",
            "catalonia banned independence (0.6470)\n",
            "catalonia independence need (0.6467)\n",
            "catalonia secessionist movement (0.6466)\n",
            "catalonia secessionist (0.6465)\n",
            "catalonia independence challenge (0.6462)\n",
            "judiciary catalonia independence (0.6450)\n",
            "catalonia referendum (0.6402)\n",
            "independence catalonia circumstances (0.6396)\n",
            "catalonia independence spain (0.6391)\n",
            "catalonia election gives (0.6389)\n",
            "spain separatists won (0.6374)\n",
            "catalonia failed independence (0.6371)\n",
            "catalonia separatist aspirations (0.6371)\n",
            "catalonia secession (0.6368)\n",
            "catalonia spain referendum (0.6364)\n",
            "catalonia independence (0.6355)\n",
            "exile catalonia votes (0.6349)\n",
            "secessionistsbarcelona catalonia (0.6341)\n",
            "catalonia won votes (0.6329)\n",
            "decades catalonia secessionist (0.6310)\n",
            "catalonia voted secede (0.6310)\n",
            "regional election catalonia (0.6306)\n",
            "election catalonia pro (0.6287)\n",
            "achieve independence catalonia (0.6283)\n",
            "ensure independence catalonia (0.6279)\n",
            "spain separatists (0.6276)\n",
            "deposed leader catalonia (0.6261)\n",
            "catalan separatist politicians (0.6261)\n",
            "position catalonia independence (0.6259)\n",
            "catalonian politicians forced (0.6258)\n",
            "referendum catalonia (0.6240)\n",
            "separatism globe catalonia (0.6238)\n",
            "vote catalonia self (0.6233)\n",
            "catalonia volatile politics (0.6232)\n",
            "abolish catalonia parliament (0.6221)\n",
            "message catalonia ousted (0.6219)\n",
            "catalonia self government (0.6213)\n",
            "president catalonia forced (0.6206)\n",
            "vote catalonia legal (0.6203)\n",
            "catalonia separate state (0.6203)\n",
            "catalan separatism victory (0.6202)\n",
            "catalonia independent state (0.6202)\n",
            "catalonia held vote (0.6190)\n",
            "spain catalonians voted (0.6173)\n",
            "stall secessionistsbarcelona catalonia (0.6165)\n",
            "catalonia president struggle (0.6164)\n",
            "crisis catalonia (0.6164)\n",
            "catalonia forced exile (0.6163)\n",
            "voices catalonia independence (0.6162)\n",
            "catalonia independence movement (0.6162)\n",
            "catalonia declaration independence (0.6148)\n",
            "catalonia dissolving parliament (0.6143)\n",
            "push catalonia secede (0.6142)\n",
            "governing coalition catalonia (0.6137)\n",
            "state catalonia independent (0.6137)\n",
            "vote catalonia (0.6132)\n",
            "catalonia secession claim (0.6129)\n",
            "imposed exile catalonia (0.6120)\n",
            "wanted catalonia independent (0.6117)\n",
            "independence solution catalonia (0.6110)\n",
            "catalonia referendum vote (0.6105)\n",
            "catalonians voted (0.6091)\n",
            "catalonia catalonia independent (0.6080)\n",
            "catalonia political (0.6074)\n",
            "coalition catalonia independent (0.6072)\n",
            "catalonia got autonomy (0.6071)\n",
            "referendum illegal catalonians (0.6070)\n",
            "referendum held catalonia (0.6066)\n",
            "catalonia independent (0.6059)\n",
            "negotiations catalonia secession (0.6058)\n",
            "spanish leader catalonia (0.6054)\n",
            "catalonia votes (0.6050)\n",
            "referendum catalonia october (0.6048)\n",
            "spain called elections (0.6047)\n",
            "troubles facing catalonia (0.6043)\n",
            "referendum year catalonia (0.6039)\n",
            "catalonia witnessed insurrection (0.6038)\n"
          ]
        }
      ]
    },
    {
      "cell_type": "code",
      "source": [
        "rake_keywords = extract_keywords_rake(combined_text)  # (score, keyword)\n",
        "yake_keywords = extract_keywords_yake(combined_text)  # (keyword, score)\n",
        "keybert_keywords = extract_keywords_keybert(combined_text)  # (keyword, score)\n",
        "print(\"Succesfully stored\")\n"
      ],
      "metadata": {
        "colab": {
          "base_uri": "https://localhost:8080/"
        },
        "id": "R-0Pru54C3Wu",
        "outputId": "11a161cf-db7f-4d47-cfa2-d3863c8555b4"
      },
      "execution_count": 46,
      "outputs": [
        {
          "output_type": "stream",
          "name": "stdout",
          "text": [
            "Succesfully stored\n"
          ]
        }
      ]
    },
    {
      "cell_type": "markdown",
      "source": [
        "CLASSIFY WHETHER TARGET OR NOT"
      ],
      "metadata": {
        "id": "xjk8ispnDehR"
      }
    },
    {
      "cell_type": "code",
      "source": [
        "def classify_keywords(keyword_list, method_keywords, threshold, method_name):\n",
        "    if method_name == \"RAKE\":\n",
        "        # RAKE gives (score, phrase), so we reverse it\n",
        "        kw_dict = {kw.lower(): score for score, kw in method_keywords}\n",
        "    else:\n",
        "        kw_dict = {kw.lower(): score for kw, score in method_keywords}\n",
        "\n",
        "    results = {}\n",
        "\n",
        "    for keyword in keyword_list:\n",
        "        keyword_lower = keyword.lower()\n",
        "        found = False\n",
        "\n",
        "        for phrase, score in kw_dict.items():\n",
        "            if keyword_lower in phrase:\n",
        "                # print(f\"[DEBUG] {keyword_lower} matched phrase '{phrase}' with score {score}\")\n",
        "                if method_name in [\"RAKE\", \"KeyBERT\"]:\n",
        "                    if score >= threshold:\n",
        "                        found = True\n",
        "                        break\n",
        "                else:  # YAKE: lower is better\n",
        "                    if round(score, 6) < round(threshold, 6):\n",
        "                        found = True\n",
        "                        break\n",
        "\n",
        "        results[keyword] = found\n",
        "\n",
        "    return results\n"
      ],
      "metadata": {
        "id": "J7gPNcmsDmb8"
      },
      "execution_count": 53,
      "outputs": []
    },
    {
      "cell_type": "markdown",
      "source": [
        "For every new article make sure to change the keyword to test and the threshold values."
      ],
      "metadata": {
        "id": "0KP6UzlsKWBJ"
      }
    },
    {
      "cell_type": "code",
      "source": [
        "keywords_to_test = [\"Catalan independence\"]\n",
        "raketest=[\"susana vera “ falling apart ” puigdemont appeared\",\"mobile world congress\",\"former parliament speaker carme forcadell\"]\n",
        "yaketest=[\"Spain\",\"Catalan independence\"]\n",
        "keyberttest=[\"catalonia want independence\",\"regional election catalonia\",\"catalonians voted\",\"spain called elections\"]\n",
        "\n",
        "rake_threshold = 30\n",
        "yake_threshold = 0.000277  # e.g. raw score, lower means more important\n",
        "keybert_threshold = 0.63\n",
        "\n",
        "rakewords= classify_keywords(raketest, rake_keywords, rake_threshold, \"RAKE\")\n",
        "yakewords= classify_keywords(yaketest, yake_keywords, yake_threshold, \"YAKE\")\n",
        "keybertwords= classify_keywords(keyberttest, keybert_keywords, keybert_threshold, \"KeyBERT\")\n",
        "\n",
        "print(\"Rake classification\")\n",
        "for word, is_target in rakewords.items():\n",
        "    print(f\"{word} → {is_target}\")\n",
        "print(\"\\n\")\n",
        "\n",
        "print(\"Yake classification\")\n",
        "for word, is_target in yakewords.items():\n",
        "    print(f\"{word} → {is_target}\")\n",
        "print(\"\\n\")\n",
        "\n",
        "print(\"Keybert classification\")\n",
        "for word, is_target in keybertwords.items():\n",
        "    print(f\"{word} → {is_target}\")\n"
      ],
      "metadata": {
        "colab": {
          "base_uri": "https://localhost:8080/"
        },
        "id": "Ri6Y2AWDD0Y9",
        "outputId": "dea1f52d-9d11-49ab-ef01-0f468cdda60a"
      },
      "execution_count": 55,
      "outputs": [
        {
          "output_type": "stream",
          "name": "stdout",
          "text": [
            "Rake classification\n",
            "susana vera “ falling apart ” puigdemont appeared → True\n",
            "mobile world congress → True\n",
            "former parliament speaker carme forcadell → False\n",
            "\n",
            "\n",
            "Yake classification\n",
            "Spain → False\n",
            "Catalan independence → True\n",
            "\n",
            "\n",
            "Keybert classification\n",
            "catalonia want independence → True\n",
            "regional election catalonia → True\n",
            "catalonians voted → False\n",
            "spain called elections → False\n"
          ]
        }
      ]
    }
  ]
}